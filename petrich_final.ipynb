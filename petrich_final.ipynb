{
 "cells": [
  {
   "cell_type": "code",
   "execution_count": 1,
   "metadata": {
    "collapsed": true
   },
   "outputs": [],
   "source": [
    "%matplotlib inline\n",
    "import matplotlib.pyplot as plt\n",
    "import seaborn as sns\n",
    "import pandas as pd\n",
    "from sklearn.utils import resample"
   ]
  },
  {
   "cell_type": "markdown",
   "source": [
    "## Introduction\n",
    "I will be using the CES11 data from R datasets. This is part of a survey on canadian voters on whether or not they\n",
    "support banning abortion. This data set is all categorical except for one column, population which contains information on\n",
    "the population of the city or province the respondent lives in. The other non categorical column is the weight column, which\n",
    "contains values representing weight sample to size of population, taking into account unequal sampling probabilities by\n",
    "province and household size. For the purposes of this analysis we won't worry about that one.\n",
    "\n",
    "### province\n",
    "a factor with (alphabetical) levels AB, BC, MB, NB, NL, NS, ON, PE, QC, SK; the sample was stratified by province\n",
    "\n",
    "### population\n",
    "population of the respondent's province, number over age 17\n",
    "\n",
    "### weight\n",
    "weight sample to size of population, taking into account unequal sampling probabilities by province and household size.\n",
    "\n",
    "### gender\n",
    "a factor with levels Female, Male.\n",
    "\n",
    "### abortion\n",
    "attitude toward abortion, a factor with levels No, Yes; answer to the question \"Should abortion be banned?\"\n",
    "\n",
    "### importance\n",
    "importance of religion, a factor with (alphabetical) levels not, notvery, somewhat, very; answer to the question, \"In your life, would you say that religion is very important, somewhat important, not very important, or not important at all?\"\n",
    "\n",
    "### education\n",
    "a factor with (alphabetical) levels bachelors (Bachelors degree), college (community college or technical school), higher (graduate degree), HS (high-school graduate), lessHS (less than high-school graduate), somePS (some post-secondary)\n",
    "\n",
    "### urban\n",
    "place of residence, a factor with levels rural, urban."
   ],
   "metadata": {
    "collapsed": false,
    "pycharm": {
     "name": "#%% md\n"
    }
   }
  },
  {
   "cell_type": "code",
   "execution_count": 2,
   "outputs": [],
   "source": [
    "url = \"https://vincentarelbundock.github.io/Rdatasets/csv/carData/CES11.csv\"\n",
    "CES11_df = pd.read_csv(url)"
   ],
   "metadata": {
    "collapsed": false,
    "pycharm": {
     "name": "#%%\n"
    }
   }
  },
  {
   "cell_type": "markdown",
   "source": [
    "## Exploring the data"
   ],
   "metadata": {
    "collapsed": false,
    "pycharm": {
     "name": "#%% md\n"
    }
   }
  },
  {
   "cell_type": "code",
   "execution_count": 3,
   "outputs": [
    {
     "data": {
      "text/plain": "   Unnamed: 0    id province  population   weight  gender abortion importance  \\\n0           1  2851       BC     3267345  4287.85  Female       No   somewhat   \n1           2   521       QC     5996930  9230.78    Male       No        not   \n2           3  2118       QC     5996930  6153.85    Male      Yes   somewhat   \n3           4  1815       NL      406455  3430.00  Female       No       very   \n4           5  1799       ON     9439960  8977.61    Male       No        not   \n5           6  1103       ON     9439960  8977.61  Female       No        not   \n6           7   957       NL      406455  3430.00  Female      Yes       very   \n7           8  3431       NL      406455  1715.00  Female      Yes    notvery   \n8           9  2516       NL      406455  1715.00    Male       No       very   \n9          10   959       NL      406455  3430.00    Male      Yes       very   \n\n   education  urban  \n0     somePS  urban  \n1  bachelors  urban  \n2    college  urban  \n3     somePS  urban  \n4     higher  rural  \n5     higher  urban  \n6     lessHS  rural  \n7    college  urban  \n8    college  urban  \n9     lessHS  rural  ",
      "text/html": "<div>\n<style scoped>\n    .dataframe tbody tr th:only-of-type {\n        vertical-align: middle;\n    }\n\n    .dataframe tbody tr th {\n        vertical-align: top;\n    }\n\n    .dataframe thead th {\n        text-align: right;\n    }\n</style>\n<table border=\"1\" class=\"dataframe\">\n  <thead>\n    <tr style=\"text-align: right;\">\n      <th></th>\n      <th>Unnamed: 0</th>\n      <th>id</th>\n      <th>province</th>\n      <th>population</th>\n      <th>weight</th>\n      <th>gender</th>\n      <th>abortion</th>\n      <th>importance</th>\n      <th>education</th>\n      <th>urban</th>\n    </tr>\n  </thead>\n  <tbody>\n    <tr>\n      <th>0</th>\n      <td>1</td>\n      <td>2851</td>\n      <td>BC</td>\n      <td>3267345</td>\n      <td>4287.85</td>\n      <td>Female</td>\n      <td>No</td>\n      <td>somewhat</td>\n      <td>somePS</td>\n      <td>urban</td>\n    </tr>\n    <tr>\n      <th>1</th>\n      <td>2</td>\n      <td>521</td>\n      <td>QC</td>\n      <td>5996930</td>\n      <td>9230.78</td>\n      <td>Male</td>\n      <td>No</td>\n      <td>not</td>\n      <td>bachelors</td>\n      <td>urban</td>\n    </tr>\n    <tr>\n      <th>2</th>\n      <td>3</td>\n      <td>2118</td>\n      <td>QC</td>\n      <td>5996930</td>\n      <td>6153.85</td>\n      <td>Male</td>\n      <td>Yes</td>\n      <td>somewhat</td>\n      <td>college</td>\n      <td>urban</td>\n    </tr>\n    <tr>\n      <th>3</th>\n      <td>4</td>\n      <td>1815</td>\n      <td>NL</td>\n      <td>406455</td>\n      <td>3430.00</td>\n      <td>Female</td>\n      <td>No</td>\n      <td>very</td>\n      <td>somePS</td>\n      <td>urban</td>\n    </tr>\n    <tr>\n      <th>4</th>\n      <td>5</td>\n      <td>1799</td>\n      <td>ON</td>\n      <td>9439960</td>\n      <td>8977.61</td>\n      <td>Male</td>\n      <td>No</td>\n      <td>not</td>\n      <td>higher</td>\n      <td>rural</td>\n    </tr>\n    <tr>\n      <th>5</th>\n      <td>6</td>\n      <td>1103</td>\n      <td>ON</td>\n      <td>9439960</td>\n      <td>8977.61</td>\n      <td>Female</td>\n      <td>No</td>\n      <td>not</td>\n      <td>higher</td>\n      <td>urban</td>\n    </tr>\n    <tr>\n      <th>6</th>\n      <td>7</td>\n      <td>957</td>\n      <td>NL</td>\n      <td>406455</td>\n      <td>3430.00</td>\n      <td>Female</td>\n      <td>Yes</td>\n      <td>very</td>\n      <td>lessHS</td>\n      <td>rural</td>\n    </tr>\n    <tr>\n      <th>7</th>\n      <td>8</td>\n      <td>3431</td>\n      <td>NL</td>\n      <td>406455</td>\n      <td>1715.00</td>\n      <td>Female</td>\n      <td>Yes</td>\n      <td>notvery</td>\n      <td>college</td>\n      <td>urban</td>\n    </tr>\n    <tr>\n      <th>8</th>\n      <td>9</td>\n      <td>2516</td>\n      <td>NL</td>\n      <td>406455</td>\n      <td>1715.00</td>\n      <td>Male</td>\n      <td>No</td>\n      <td>very</td>\n      <td>college</td>\n      <td>urban</td>\n    </tr>\n    <tr>\n      <th>9</th>\n      <td>10</td>\n      <td>959</td>\n      <td>NL</td>\n      <td>406455</td>\n      <td>3430.00</td>\n      <td>Male</td>\n      <td>Yes</td>\n      <td>very</td>\n      <td>lessHS</td>\n      <td>rural</td>\n    </tr>\n  </tbody>\n</table>\n</div>"
     },
     "execution_count": 3,
     "metadata": {},
     "output_type": "execute_result"
    }
   ],
   "source": [
    "CES11_df.head(10)"
   ],
   "metadata": {
    "collapsed": false,
    "pycharm": {
     "name": "#%%\n"
    }
   }
  },
  {
   "cell_type": "code",
   "execution_count": 4,
   "outputs": [
    {
     "data": {
      "text/plain": "(2231, 10)"
     },
     "execution_count": 4,
     "metadata": {},
     "output_type": "execute_result"
    }
   ],
   "source": [
    "CES11_df.shape"
   ],
   "metadata": {
    "collapsed": false,
    "pycharm": {
     "name": "#%%\n"
    }
   }
  },
  {
   "cell_type": "code",
   "execution_count": 5,
   "outputs": [
    {
     "data": {
      "text/plain": "Unnamed: 0      int64\nid              int64\nprovince       object\npopulation      int64\nweight        float64\ngender         object\nabortion       object\nimportance     object\neducation      object\nurban          object\ndtype: object"
     },
     "execution_count": 5,
     "metadata": {},
     "output_type": "execute_result"
    }
   ],
   "source": [
    "CES11_df.dtypes"
   ],
   "metadata": {
    "collapsed": false,
    "pycharm": {
     "name": "#%%\n"
    }
   }
  },
  {
   "cell_type": "markdown",
   "source": [
    "## Cleaning the data\n",
    "Drop the unnamed category, this is going to create an issue later. We are also going to drop the id column, since this\n",
    "column isn't going to give us any additional information and might confuse whatever model we use in the future.\n",
    "Since most of the categories are categorical we will convert these to a integer representation, to make using in machine learning models easier."
   ],
   "metadata": {
    "collapsed": false,
    "pycharm": {
     "name": "#%% md\n"
    }
   }
  },
  {
   "cell_type": "code",
   "execution_count": 6,
   "outputs": [],
   "source": [
    "CES11_df.drop('Unnamed: 0', axis=1, inplace=True)\n",
    "CES11_df.drop('id', axis=1, inplace=True)"
   ],
   "metadata": {
    "collapsed": false,
    "pycharm": {
     "name": "#%%\n"
    }
   }
  },
  {
   "cell_type": "code",
   "source": [
    "CES11_df_2 = CES11_df.replace({'province' :{'AB':0,'BC':1,'MB':2,'NB':3,'NL':4,'NS':5,'ON':6,'PE':7,'QC':8,'SK':9},\n",
    "                             'gender':{'Male':0, 'Female':1},\n",
    "                             'importance' : {'not':0,'notvery':1,'somewhat':2,'very':3},\n",
    "                             'education' : {'bachelors':0,'college':1, 'higher':2, 'HS' :3, 'lessHS':4,'somePS':5},\n",
    "                             'urban' : {'urban' : 0,'rural' :1}})\n",
    "CES11_df_2.head(10)"
   ],
   "metadata": {
    "collapsed": false,
    "pycharm": {
     "name": "#%%\n"
    }
   },
   "execution_count": 7,
   "outputs": [
    {
     "data": {
      "text/plain": "   province  population   weight  gender abortion  importance  education  \\\n0         1     3267345  4287.85       1       No           2          5   \n1         8     5996930  9230.78       0       No           0          0   \n2         8     5996930  6153.85       0      Yes           2          1   \n3         4      406455  3430.00       1       No           3          5   \n4         6     9439960  8977.61       0       No           0          2   \n5         6     9439960  8977.61       1       No           0          2   \n6         4      406455  3430.00       1      Yes           3          4   \n7         4      406455  1715.00       1      Yes           1          1   \n8         4      406455  1715.00       0       No           3          1   \n9         4      406455  3430.00       0      Yes           3          4   \n\n   urban  \n0      0  \n1      0  \n2      0  \n3      0  \n4      1  \n5      0  \n6      1  \n7      0  \n8      0  \n9      1  ",
      "text/html": "<div>\n<style scoped>\n    .dataframe tbody tr th:only-of-type {\n        vertical-align: middle;\n    }\n\n    .dataframe tbody tr th {\n        vertical-align: top;\n    }\n\n    .dataframe thead th {\n        text-align: right;\n    }\n</style>\n<table border=\"1\" class=\"dataframe\">\n  <thead>\n    <tr style=\"text-align: right;\">\n      <th></th>\n      <th>province</th>\n      <th>population</th>\n      <th>weight</th>\n      <th>gender</th>\n      <th>abortion</th>\n      <th>importance</th>\n      <th>education</th>\n      <th>urban</th>\n    </tr>\n  </thead>\n  <tbody>\n    <tr>\n      <th>0</th>\n      <td>1</td>\n      <td>3267345</td>\n      <td>4287.85</td>\n      <td>1</td>\n      <td>No</td>\n      <td>2</td>\n      <td>5</td>\n      <td>0</td>\n    </tr>\n    <tr>\n      <th>1</th>\n      <td>8</td>\n      <td>5996930</td>\n      <td>9230.78</td>\n      <td>0</td>\n      <td>No</td>\n      <td>0</td>\n      <td>0</td>\n      <td>0</td>\n    </tr>\n    <tr>\n      <th>2</th>\n      <td>8</td>\n      <td>5996930</td>\n      <td>6153.85</td>\n      <td>0</td>\n      <td>Yes</td>\n      <td>2</td>\n      <td>1</td>\n      <td>0</td>\n    </tr>\n    <tr>\n      <th>3</th>\n      <td>4</td>\n      <td>406455</td>\n      <td>3430.00</td>\n      <td>1</td>\n      <td>No</td>\n      <td>3</td>\n      <td>5</td>\n      <td>0</td>\n    </tr>\n    <tr>\n      <th>4</th>\n      <td>6</td>\n      <td>9439960</td>\n      <td>8977.61</td>\n      <td>0</td>\n      <td>No</td>\n      <td>0</td>\n      <td>2</td>\n      <td>1</td>\n    </tr>\n    <tr>\n      <th>5</th>\n      <td>6</td>\n      <td>9439960</td>\n      <td>8977.61</td>\n      <td>1</td>\n      <td>No</td>\n      <td>0</td>\n      <td>2</td>\n      <td>0</td>\n    </tr>\n    <tr>\n      <th>6</th>\n      <td>4</td>\n      <td>406455</td>\n      <td>3430.00</td>\n      <td>1</td>\n      <td>Yes</td>\n      <td>3</td>\n      <td>4</td>\n      <td>1</td>\n    </tr>\n    <tr>\n      <th>7</th>\n      <td>4</td>\n      <td>406455</td>\n      <td>1715.00</td>\n      <td>1</td>\n      <td>Yes</td>\n      <td>1</td>\n      <td>1</td>\n      <td>0</td>\n    </tr>\n    <tr>\n      <th>8</th>\n      <td>4</td>\n      <td>406455</td>\n      <td>1715.00</td>\n      <td>0</td>\n      <td>No</td>\n      <td>3</td>\n      <td>1</td>\n      <td>0</td>\n    </tr>\n    <tr>\n      <th>9</th>\n      <td>4</td>\n      <td>406455</td>\n      <td>3430.00</td>\n      <td>0</td>\n      <td>Yes</td>\n      <td>3</td>\n      <td>4</td>\n      <td>1</td>\n    </tr>\n  </tbody>\n</table>\n</div>"
     },
     "execution_count": 7,
     "metadata": {},
     "output_type": "execute_result"
    }
   ]
  },
  {
   "cell_type": "code",
   "execution_count": 8,
   "outputs": [
    {
     "data": {
      "text/plain": "No     1818\nYes     413\nName: abortion, dtype: int64"
     },
     "execution_count": 8,
     "metadata": {},
     "output_type": "execute_result"
    }
   ],
   "source": [
    "# Display value counts\n",
    "CES11_df_2.abortion.value_counts()"
   ],
   "metadata": {
    "collapsed": false,
    "pycharm": {
     "name": "#%%\n"
    }
   }
  },
  {
   "cell_type": "markdown",
   "source": [
    "### Boosting the data\n",
    "This is a hugely imbalanced dataset, no's makeup about 80% of the dataset. This means it is going to be a little more\n",
    "difficult to make a machine learning model better than simply pure guessing. To improve the quality of a machine learning\n",
    "model we will boost our dataset using a basic upsampling technique. I start by separating the majority value and minority\n",
    "value into two separate datasets, and then use the resample method available in sklearn to randomly create possible minority\n",
    "data entrys."
   ],
   "metadata": {
    "collapsed": false,
    "pycharm": {
     "name": "#%% md\n"
    }
   }
  },
  {
   "cell_type": "code",
   "execution_count": 9,
   "outputs": [
    {
     "name": "stdout",
     "output_type": "stream",
     "text": [
      "The majority sample size is: 1818\n"
     ]
    }
   ],
   "source": [
    "df_maj = CES11_df_2[CES11_df_2.abortion == 'No']\n",
    "df_min = CES11_df_2[CES11_df_2.abortion == 'Yes']\n",
    "print(\"The majority sample size is: {}\".format(len(df_maj)))\n",
    "\n"
   ],
   "metadata": {
    "collapsed": false,
    "pycharm": {
     "name": "#%%\n"
    }
   }
  },
  {
   "cell_type": "code",
   "execution_count": 10,
   "outputs": [
    {
     "data": {
      "text/plain": "Yes    1818\nNo     1818\nName: abortion, dtype: int64"
     },
     "execution_count": 10,
     "metadata": {},
     "output_type": "execute_result"
    }
   ],
   "source": [
    "# Upsample majority class\n",
    "df_min_up = resample(df_min, replace=True,    # sample without replacement\n",
    "                             n_samples=1818,     # to match minority class\n",
    "                             random_state=1)\n",
    "# Combine minority class with downsampled majority class\n",
    "CES11_df_2 = pd.concat([df_min_up, df_maj])\n",
    "\n",
    "# Display new class counts\n",
    "CES11_df_2.abortion.value_counts()"
   ],
   "metadata": {
    "collapsed": false,
    "pycharm": {
     "name": "#%%\n"
    }
   }
  },
  {
   "cell_type": "markdown",
   "source": [
    "After cleaning the data we are left with a data frame of 3638 rows and 8 columns. Our\n",
    "target will be the abortion column, and the features will be everything else."
   ],
   "metadata": {
    "collapsed": false,
    "pycharm": {
     "name": "#%% md\n"
    }
   }
  },
  {
   "cell_type": "markdown",
   "source": [
    "## Visualize the data\n",
    "Let's Visualize our data. The plan is to make a model to predict whether a Canadian voter supports or opposes\n",
    "banning abortion, so that will be our hue."
   ],
   "metadata": {
    "collapsed": false,
    "pycharm": {
     "name": "#%% md\n"
    }
   }
  },
  {
   "cell_type": "code",
   "execution_count": 11,
   "outputs": [
    {
     "data": {
      "text/plain": "<AxesSubplot:>"
     },
     "execution_count": 11,
     "metadata": {},
     "output_type": "execute_result"
    },
    {
     "data": {
      "text/plain": "<Figure size 432x288 with 1 Axes>",
      "image/png": "[encoded data removed]"
     },
     "metadata": {
      "needs_background": "light"
     },
     "output_type": "display_data"
    }
   ],
   "source": [
    "CES11_df_2['abortion'].value_counts().plot(kind='bar')"
   ],
   "metadata": {
    "collapsed": false,
    "pycharm": {
     "name": "#%%\n"
    }
   }
  },
  {
   "cell_type": "markdown",
   "source": [
    "### Pair plot"
   ],
   "metadata": {
    "collapsed": false,
    "pycharm": {
     "name": "#%% md\n"
    }
   }
  },
  {
   "cell_type": "code",
   "execution_count": null,
   "outputs": [],
   "source": [
    "sns.pairplot(CES11_df_2, hue='abortion', height=2)"
   ],
   "metadata": {
    "collapsed": false,
    "pycharm": {
     "name": "#%%\n",
     "is_executing": true
    }
   }
  },
  {
   "cell_type": "markdown",
   "source": [
    "In addition to the imbalance of the abortion column, there are not a lot of clear places we could draw a clear dividing\n",
    "line without potentially over fitting our data"
   ],
   "metadata": {
    "collapsed": false,
    "pycharm": {
     "name": "#%% md\n"
    }
   }
  },
  {
   "cell_type": "markdown",
   "source": [
    "## Next Steps\n",
    "After looking at the summary statistics for the dataset I have a couple questions I think we could potentially answer.\n",
    "The first is whether a particular characteristic is valuable for predicting a person's stance on banning abortion.\n",
    "To solve this question I think a decision tree would be the best model to use, because we can very clearly see the\n",
    "columns the model is using. I would also like to test this on an SVM. Because this is a difficult data set interms of balance\n",
    "I would like to see which model performs better."
   ],
   "metadata": {
    "collapsed": false,
    "pycharm": {
     "name": "#%% md\n"
    }
   }
  },
  {
   "cell_type": "markdown",
   "source": [
    "### Question 1: Can we predict whether a respondent supports Abortion or not using a decision tree?"
   ],
   "metadata": {
    "collapsed": false,
    "pycharm": {
     "name": "#%% md\n"
    }
   }
  },
  {
   "cell_type": "code",
   "execution_count": null,
   "outputs": [],
   "source": [
    "from sklearn.model_selection import GridSearchCV\n",
    "from sklearn import tree\n",
    "from sklearn.metrics import accuracy_score\n",
    "from treeprint import tree_print\n",
    "from confidence import classification_confint\n",
    "from sklearn.metrics import confusion_matrix"
   ],
   "metadata": {
    "collapsed": false,
    "pycharm": {
     "name": "#%%\n",
     "is_executing": true
    }
   }
  },
  {
   "cell_type": "code",
   "execution_count": null,
   "outputs": [],
   "source": [
    "targets = pd.DataFrame(CES11_df_2['abortion'])\n",
    "features = CES11_df_2.drop('abortion', axis=1)"
   ],
   "metadata": {
    "collapsed": false,
    "pycharm": {
     "name": "#%%\n",
     "is_executing": true
    }
   }
  },
  {
   "cell_type": "code",
   "execution_count": null,
   "outputs": [],
   "source": [
    "model = model = tree.DecisionTreeClassifier()\n",
    "param_grid = {\n",
    "    'max_depth': list(range(1,11)), # search 1..10\n",
    "    'criterion': ['entropy', 'gini']\n",
    "    }\n",
    "grid = GridSearchCV(model, param_grid, cv=5)"
   ],
   "metadata": {
    "collapsed": false,
    "pycharm": {
     "name": "#%%\n",
     "is_executing": true
    }
   }
  },
  {
   "cell_type": "code",
   "execution_count": null,
   "outputs": [],
   "source": [
    "grid.fit(features,targets)"
   ],
   "metadata": {
    "collapsed": false,
    "pycharm": {
     "name": "#%%\n",
     "is_executing": true
    }
   }
  },
  {
   "cell_type": "code",
   "execution_count": null,
   "outputs": [],
   "source": [
    "print(\"Best parameters: {}\".format(grid.best_params_))"
   ],
   "metadata": {
    "collapsed": false,
    "pycharm": {
     "name": "#%%\n",
     "is_executing": true
    }
   }
  },
  {
   "cell_type": "code",
   "execution_count": null,
   "outputs": [],
   "source": [
    "print(\"Best tree:\")\n",
    "tree_print(grid.best_estimator_,features)"
   ],
   "metadata": {
    "collapsed": false,
    "pycharm": {
     "name": "#%%\n",
     "is_executing": true
    }
   }
  },
  {
   "cell_type": "code",
   "execution_count": null,
   "outputs": [],
   "source": [
    "predict_target = grid.best_estimator_.predict(features)"
   ],
   "metadata": {
    "collapsed": false,
    "pycharm": {
     "name": "#%%\n",
     "is_executing": true
    }
   }
  },
  {
   "cell_type": "code",
   "execution_count": null,
   "outputs": [],
   "source": [
    "acc = accuracy_score(targets, predict_target)"
   ],
   "metadata": {
    "collapsed": false,
    "pycharm": {
     "name": "#%%\n",
     "is_executing": true
    }
   }
  },
  {
   "cell_type": "code",
   "execution_count": null,
   "outputs": [],
   "source": [
    "observations = CES11_df_2.shape[0]\n",
    "lb,ub = classification_confint(acc, observations)\n",
    "print(\"Accuracy: {:3.2f} ({:3.2f},{:3.2f})\".format(acc,lb,ub))\n",
    "\n",
    "# buld confusion matrix\n",
    "labels = ['No', 'Yes']\n",
    "cm2 = confusion_matrix(targets, predict_target, labels=labels)\n",
    "cm_df2 = pd.DataFrame(cm2, index=labels, columns=labels)\n",
    "print(\"Confusion Matrix:\\n{}\".format(cm_df2))"
   ],
   "metadata": {
    "collapsed": false,
    "pycharm": {
     "name": "#%%\n",
     "is_executing": true
    }
   }
  },
  {
   "cell_type": "markdown",
   "source": [
    "Our model is between 83 and 85 percent accurate which is\n",
    "fairly successful in my opinion especially considering the\n",
    "lack of clear divides in this situation.\n",
    "This ended up being a very complicated decision tree model, but ultimately I feel confident that this model would do a good\n",
    "job of predicting"
   ],
   "metadata": {
    "collapsed": false
   }
  },
  {
   "cell_type": "markdown",
   "source": [
    "### Question 2: Will an SVM do this classification better?"
   ],
   "metadata": {
    "collapsed": false
   }
  },
  {
   "cell_type": "code",
   "execution_count": null,
   "outputs": [],
   "source": [
    "from sklearn.svm import SVC\n"
   ],
   "metadata": {
    "collapsed": false,
    "pycharm": {
     "name": "#%%\n",
     "is_executing": true
    }
   }
  },
  {
   "cell_type": "code",
   "execution_count": null,
   "outputs": [],
   "source": [
    "# SVM\n",
    "model2 = SVC(coef0=1.0, max_iter=10000)\n",
    "param_grid2 = [{'C': [0.1, 0.5, 1], 'kernel': ['poly', 'rbf', 'sigmoid'], 'gamma' : ['scale', 'auto']}]\n",
    "grid2 = GridSearchCV(model2, param_grid2, cv=5)\n",
    "grid2.fit(features, targets)\n",
    "print(\"Grid Search: best parameters: {}\".format(grid2.best_params_))"
   ],
   "metadata": {
    "collapsed": false,
    "pycharm": {
     "name": "#%%\n",
     "is_executing": true
    }
   }
  },
  {
   "cell_type": "code",
   "execution_count": null,
   "outputs": [],
   "source": [
    "# evaluate the best model\n",
    "best_model2 = grid2.best_estimator_\n",
    "predict_y2 = best_model2.predict(features)\n",
    "acc2 = accuracy_score(targets, predict_y2)\n",
    "lb2,ub2 = classification_confint(acc2,features.shape[0])\n",
    "print(\"Accuracy: {:3.2f} ({:3.2f},{:3.2f})\".format(acc2,lb2,ub2))\n",
    "\n",
    "# build confusion matrix\n",
    "labels = ['No', 'Yes']\n",
    "cm2 = confusion_matrix(targets, predict_y2, labels=labels)\n",
    "cm_df2 = pd.DataFrame(cm2, index=labels, columns=labels)\n",
    "print(\"Confusion Matrix:\\n{}\".format(cm_df2))"
   ],
   "metadata": {
    "collapsed": false,
    "pycharm": {
     "name": "#%%\n",
     "is_executing": true
    }
   }
  },
  {
   "cell_type": "markdown",
   "source": [
    "### Analysis\n",
    "These results are interesting for a couple of reasons.\n",
    "The first is that the decision tree was ultimately a better predictor of whether a canadian voter supports\n",
    "abolishing abortion or not. This difference was statistically significant because there was no overlap in the confidence\n",
    "intervals of the two models. However, both models are fairly good at predicting whether a canadian supports banning abortion\n",
    "or not. It should be stated that our method of upsampling is potentially prone to over fitting data, and our method does not\n",
    "take into account generating outliers, and only generated options within the realm of possibility."
   ],
   "metadata": {
    "collapsed": false
   }
  }
 ],
 "metadata": {
  "kernelspec": {
   "display_name": "Python 3",
   "language": "python",
   "name": "python3"
  },
  "language_info": {
   "codemirror_mode": {
    "name": "ipython",
    "version": 2
   },
   "file_extension": ".py",
   "mimetype": "text/x-python",
   "name": "python",
   "nbconvert_exporter": "python",
   "pygments_lexer": "ipython2",
   "version": "2.7.6"
  }
 },
 "nbformat": 4,
 "nbformat_minor": 0
}